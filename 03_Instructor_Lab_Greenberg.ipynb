{
 "cells": [
  {
   "cell_type": "markdown",
   "id": "ec7e092a-f0bc-4a8f-a877-e35534925f07",
   "metadata": {},
   "source": [
    "### UM MSBA - BGEN632 | Thomas (T.J) Greenberg"
   ]
  },
  {
   "cell_type": "markdown",
   "id": "15edcc2b-86dc-432e-94be-14a32dcf1140",
   "metadata": {},
   "source": [
    "# **Week 3 Instuctor-led Lab: Temperature Conversion**"
   ]
  },
  {
   "cell_type": "markdown",
   "id": "7499cf4f-61f3-4e7a-80d9-01b09dd836c9",
   "metadata": {},
   "source": [
    "This code will convert temperatures for values provided in Celsius, Fahrenheit, and Kelvin."
   ]
  },
  {
   "cell_type": "markdown",
   "id": "4a0acaed-a02a-4764-8d27-d44847f16952",
   "metadata": {},
   "source": [
    "---"
   ]
  },
  {
   "cell_type": "markdown",
   "id": "a40a2676-db50-4833-9aaf-ccd3ba94ff98",
   "metadata": {},
   "source": [
    "## **Welcome to my temperature converter!**"
   ]
  },
  {
   "cell_type": "markdown",
   "id": "2b8dbb2b-2574-4657-966b-113478db6059",
   "metadata": {},
   "source": [
    "### **Create Variables**"
   ]
  },
  {
   "cell_type": "code",
   "execution_count": 1,
   "id": "7cf9c9f7-35e4-4a16-b224-0fd3921ac1e2",
   "metadata": {},
   "outputs": [],
   "source": [
    "celsius = 0.0\n",
    "fahrenheit = 0.0\n",
    "kelvin = 0.0"
   ]
  },
  {
   "cell_type": "markdown",
   "id": "67f2373f-1f11-4f20-acf3-fe9cb5f53eda",
   "metadata": {},
   "source": [
    "### **Get User Input**"
   ]
  },
  {
   "cell_type": "code",
   "execution_count": null,
   "id": "192e50d7-eceb-4953-be8f-b814d7961d01",
   "metadata": {},
   "outputs": [],
   "source": [
    "text = float(input(\"Please provide a value, in Celsius, to convert:\\n\"))"
   ]
  },
  {
   "cell_type": "code",
   "execution_count": 2,
   "id": "8f2cd869-02a1-4389-86b3-27617d0e35e0",
   "metadata": {},
   "outputs": [],
   "source": [
    "celsius = text"
   ]
  },
  {
   "cell_type": "markdown",
   "id": "85122da1-5709-4363-a438-c04e76588929",
   "metadata": {},
   "source": [
    "### **Convert Celsius to Fahrenheit**"
   ]
  },
  {
   "cell_type": "code",
   "execution_count": 3,
   "id": "4b2e94e1-8800-478a-80c0-de9b4ca5e6bc",
   "metadata": {},
   "outputs": [],
   "source": [
    "fahrenheit = (9 / 5) * celsius + 32"
   ]
  },
  {
   "cell_type": "markdown",
   "id": "33fe7e55-899d-4d45-a05b-f42c30df61c6",
   "metadata": {},
   "source": [
    "### **Convert Celsius to Kelvin**"
   ]
  },
  {
   "cell_type": "code",
   "execution_count": null,
   "id": "a9bfa300-f4b2-48ab-baf7-4096bee98c45",
   "metadata": {},
   "outputs": [],
   "source": [
    "kelvin = celsius + 237.15"
   ]
  },
  {
   "cell_type": "markdown",
   "id": "f6d33fde-691b-41dd-a8fc-9a32789c1ddf",
   "metadata": {},
   "source": [
    "### **Display Conversion Results**"
   ]
  },
  {
   "cell_type": "code",
   "execution_count": null,
   "id": "8f5cfc43-ee6c-4f14-b2a2-6c0ff0724242",
   "metadata": {},
   "outputs": [],
   "source": [
    "print(f\"{celsius} degrees Celsius is {fahrenheit} degrees Fahrenheit which is {kelvin} degrees Kelvin.\")"
   ]
  },
  {
   "cell_type": "markdown",
   "id": "629385df-c3e0-44ca-bfbe-7a816fafbd22",
   "metadata": {},
   "source": [
    "### **Create Additional Temperature Variables**"
   ]
  },
  {
   "cell_type": "code",
   "execution_count": 1,
   "id": "5f2028bb-0fa1-415b-a6ba-7c51ae577c1a",
   "metadata": {},
   "outputs": [
    {
     "name": "stdin",
     "output_type": "stream",
     "text": [
      "Please provide another value, in Celsius, to convert:\n",
      " 15\n"
     ]
    }
   ],
   "source": [
    "celsius_two = float(input(\"Please provide another value, in Celsius, to convert:\\n\"))\n",
    "fahrenheit_two = (9 / 5) * celsius_two + 32\n",
    "kelvin_two = celsius_two + 273.15"
   ]
  },
  {
   "cell_type": "markdown",
   "id": "035833e8-a96e-4cb0-a311-a61ef3e0e5d4",
   "metadata": {},
   "source": [
    "### **Perform Comparisons Between Temperatures**"
   ]
  },
  {
   "cell_type": "code",
   "execution_count": 4,
   "id": "ab99c440-9aa1-4f3c-9cb1-cb3faf156d86",
   "metadata": {},
   "outputs": [
    {
     "ename": "NameError",
     "evalue": "name 'celsius' is not defined",
     "output_type": "error",
     "traceback": [
      "\u001b[31m---------------------------------------------------------------------------\u001b[39m",
      "\u001b[31mNameError\u001b[39m                                 Traceback (most recent call last)",
      "\u001b[36mCell\u001b[39m\u001b[36m \u001b[39m\u001b[32mIn[4]\u001b[39m\u001b[32m, line 1\u001b[39m\n\u001b[32m----> \u001b[39m\u001b[32m1\u001b[39m \u001b[38;5;28;01mif\u001b[39;00m \u001b[43mcelsius\u001b[49m > celsius_two:\n\u001b[32m      2\u001b[39m     \u001b[38;5;28mprint\u001b[39m(\u001b[33mf\u001b[39m\u001b[33m\"\u001b[39m\u001b[33mThe original Celsius value of \u001b[39m\u001b[38;5;132;01m{\u001b[39;00mcelsius\u001b[38;5;132;01m}\u001b[39;00m\u001b[33m is larger than the new value of \u001b[39m\u001b[38;5;132;01m{\u001b[39;00mcelsius_two\u001b[38;5;132;01m}\u001b[39;00m\u001b[33m.\u001b[39m\u001b[33m\"\u001b[39m)\n\u001b[32m      3\u001b[39m \u001b[38;5;28;01melif\u001b[39;00m celsius < celsius_two:\n",
      "\u001b[31mNameError\u001b[39m: name 'celsius' is not defined"
     ]
    }
   ],
   "source": [
    "if celsius > celsius_two:\n",
    "    print(f\"The original Celsius value of {celsius} is larger than the new value of {celsius_two}.\")\n",
    "elif celsius < celsius_two:\n",
    "    print(f\"The original Celsius value of {celsius} is smaller than the new value of {celsius_two}.\")\n",
    "else:\n",
    "    print(f\"The original Celsius value of {celsius} equals the new value of {celsius_two}.\")"
   ]
  },
  {
   "cell_type": "code",
   "execution_count": null,
   "id": "de9ffc54-88e3-4063-a6b0-1556d6768bbb",
   "metadata": {},
   "outputs": [],
   "source": []
  }
 ],
 "metadata": {
  "kernelspec": {
   "display_name": "Python 3 (ipykernel)",
   "language": "python",
   "name": "python3"
  },
  "language_info": {
   "codemirror_mode": {
    "name": "ipython",
    "version": 3
   },
   "file_extension": ".py",
   "mimetype": "text/x-python",
   "name": "python",
   "nbconvert_exporter": "python",
   "pygments_lexer": "ipython3",
   "version": "3.13.2"
  }
 },
 "nbformat": 4,
 "nbformat_minor": 5
}
