{
 "cells": [
  {
   "cell_type": "markdown",
   "id": "bb143e50-f89f-4977-9385-1d49ebf42398",
   "metadata": {},
   "source": [
    "UM MSBA - BGEN632 | Thomas (T.J.) Greenberg\n",
    "\n",
    "# Week 3 Independent Lab - Self-Service Kiosk\n",
    "\n",
    "This program allows users to place orders at a self-service ghost kitchen kiosk. Users can:\n",
    "- Select food items from a menu.\n",
    "- Specify quantity.\n",
    "- Receive a pickup code upon checkout.\n",
    "---\n",
    "\n",
    "## Welcome to Casper's! ##"
   ]
  },
  {
   "cell_type": "markdown",
   "id": "f2241f98-de58-4524-96b5-a88241a181d4",
   "metadata": {},
   "source": [
    "---\n",
    "## Menu Setup\n"
   ]
  },
  {
   "cell_type": "code",
   "execution_count": 1,
   "id": "9794422d-e9bf-4ecd-bdf4-56c15d5b5555",
   "metadata": {},
   "outputs": [],
   "source": [
    "import random\n",
    "\n",
    "menu = {\n",
    "    1: (\"Burger\", 7.99),\n",
    "    2: (\"Pizza Slice\", 3.50),\n",
    "    3: (\"Boba Tea\", 5.25),\n",
    "    4: (\"Sushi Roll\", 8.99),\n",
    "    5: (\"Salad Bowl\", 6.50)\n",
    "}"
   ]
  },
  {
   "cell_type": "markdown",
   "id": "7282b753-3b3c-41f0-860f-54b83fd07856",
   "metadata": {},
   "source": [
    "### Track order quantities\n"
   ]
  },
  {
   "cell_type": "code",
   "execution_count": 2,
   "id": "fa041abb-9ec1-4fb9-8721-563fc07fdd96",
   "metadata": {},
   "outputs": [],
   "source": [
    "order = {key: 0 for key in menu}"
   ]
  },
  {
   "cell_type": "markdown",
   "id": "04544679-2040-4ebe-a200-8297104e732c",
   "metadata": {},
   "source": [
    "### Display Menu Function\n",
    "Below are functions for:\n",
    "- Displaying the menu (`display_menu`)\n",
    "- Getting user choice (`get_user_choice`)\n",
    "- Getting quantity (`get_quantity`)\n",
    "- Generating a pickup code (`generate_pickup_code`)\n"
   ]
  },
  {
   "cell_type": "code",
   "execution_count": 3,
   "id": "ca61b016-ef4c-46a3-b93c-8065ff82063d",
   "metadata": {},
   "outputs": [
    {
     "name": "stdout",
     "output_type": "stream",
     "text": [
      "Helper functions defined.\n"
     ]
    }
   ],
   "source": [
    "def display_menu():\n",
    "    \"\"\"\n",
    "    Displays the available menu items and their prices.\n",
    "    \"\"\"\n",
    "    print(\"\\nWelcome to Casper's Ghost Kitchen Automat!\")\n",
    "    print(\"Please place your order by selecting an item and quantity.\\n\")\n",
    "    print(\"| # | Food Item        | Price   |\")\n",
    "    for key, (item, price) in menu.items():\n",
    "        print(f\"| {key} | {item:<15} | ${price:.2f} |\")\n",
    "    print(\"\\n(Enter 0 to finish ordering.)\\n\")\n",
    "\n",
    "\n",
    "def get_user_choice():\n",
    "    \"\"\"\n",
    "    Prompts the user to select an item from the menu.\n",
    "    Returns a valid menu selection (1–5) or 0 to finish.\n",
    "    \"\"\"\n",
    "    while True:\n",
    "        choice = input(\"Enter item number (1–5) or 0 to finish:\\n\").strip()\n",
    "        if choice.isdigit():\n",
    "            choice = int(choice)\n",
    "            if choice in menu or choice == 0:\n",
    "                return choice\n",
    "            else:\n",
    "                print(\"Invalid selection. Please enter a number between 1–5 or 0 to finish.\")\n",
    "        else:\n",
    "            print(\"Invalid input. Please enter a valid number.\")\n",
    "\n",
    "\n",
    "def get_quantity(item_name):\n",
    "    \"\"\"\n",
    "    Prompts the user to enter the quantity of the selected item.\n",
    "    Ensures valid numeric input (>= 1).\n",
    "    \"\"\"\n",
    "    while True:\n",
    "        quantity_str = input(f\"How many {item_name} would you like?\\n\").strip()\n",
    "        if quantity_str.isdigit():\n",
    "            quantity = int(quantity_str)\n",
    "            if quantity > 0:\n",
    "                return quantity\n",
    "            else:\n",
    "                print(\"Quantity must be at least 1.\")\n",
    "        else:\n",
    "            print(\"Invalid input. Please enter a valid number.\")\n",
    "\n",
    "\n",
    "def generate_pickup_code():\n",
    "    \"\"\"\n",
    "    Generates a unique pickup code for order collection.\n",
    "    \"\"\"\n",
    "    return f\"#{random.randint(100, 999)}\"\n",
    "\n",
    "\n",
    "print(\"Helper functions defined.\")"
   ]
  },
  {
   "cell_type": "markdown",
   "id": "e2b76a4b-d827-460e-be16-1cf315755e70",
   "metadata": {},
   "source": [
    "### Ordering Process\n",
    "\n",
    "Two main functions:\n",
    "\n",
    "1. `process_order()`  \n",
    "   - Repeatedly prompts user for menu item and quantity  \n",
    "   - Updates `order` and calculates `total_cost`  \n",
    "   - Ends when user enters `0`  \n",
    "\n",
    "2. `display_order_summary(total_cost)`  \n",
    "   - Prints a summary of everything ordered  \n",
    "   - Displays the final total cost  \n",
    "   - Shows a pickup code\n"
   ]
  },
  {
   "cell_type": "code",
   "execution_count": 4,
   "id": "9657e106-8452-49f6-b3b0-51910e9d9e82",
   "metadata": {},
   "outputs": [],
   "source": [
    "def process_order():\n",
    "    \"\"\"\n",
    "    Handles order selection, quantity input, and total cost calculation.\n",
    "    Returns the final total cost.\n",
    "    \"\"\"\n",
    "    total_cost = 0.0\n",
    "    \n",
    "    while True:\n",
    "        display_menu()\n",
    "        \n",
    "        choice = get_user_choice()\n",
    "        if choice == 0:\n",
    "            # User is done ordering\n",
    "            break\n",
    "        \n",
    "        item_name, item_price = menu[choice]\n",
    "        quantity = get_quantity(item_name)\n",
    "        \n",
    "        # Update the order and total cost\n",
    "        order[choice] += quantity\n",
    "        total_cost += item_price * quantity\n",
    "        \n",
    "        print(f\"\\nAdded {quantity} x {item_name} to your order.\")\n",
    "        print(f\"Current total: ${total_cost:.2f}\\n\")\n",
    "    \n",
    "    return total_cost\n",
    "\n",
    "\n",
    "def display_order_summary(total_cost):\n",
    "    \"\"\"\n",
    "    Displays the summary of the user's order and provides a pickup code.\n",
    "    \"\"\"\n",
    "    print(\"\\n--- Order Summary ---\\n\")\n",
    "    print(\"| Food Item      | Quantity |\")\n",
    "    for key, qty in order.items():\n",
    "        if qty > 0:\n",
    "            item_name = menu[key][0]\n",
    "            print(f\"| {item_name:<15} | {qty:>8} |\")\n",
    "    \n",
    "    print(f\"\\nTotal Cost: ${total_cost:.2f}\")\n",
    "    \n",
    "    pickup_code = generate_pickup_code()\n",
    "    print(f\"\\nYour pickup code: {pickup_code}\")\n",
    "    print(\"Please wait 15-30 minutes for your order completion. Thank you!\")\n"
   ]
  },
  {
   "cell_type": "markdown",
   "id": "a13af3ec-a481-4615-af3b-a4871ef9870b",
   "metadata": {},
   "source": [
    "### – Running & Testing\n",
    "\n",
    "Use the code cell below to start the ordering process.\n",
    "\n",
    "You will be asked to:\n",
    "- Enter an item number (1–5) or 0 to finish\n",
    "- Enter a quantity (must be >= 1)\n",
    "- Continue until you choose 0\n"
   ]
  },
  {
   "cell_type": "code",
   "execution_count": 1,
   "id": "998237ea-53de-4a09-ba50-0a1abe6a7191",
   "metadata": {},
   "outputs": [
    {
     "name": "stdout",
     "output_type": "stream",
     "text": [
      "Starting your Ghost Kitchen Automat ordering process...\n",
      "\n"
     ]
    },
    {
     "ename": "NameError",
     "evalue": "name 'process_order' is not defined",
     "output_type": "error",
     "traceback": [
      "\u001b[31m---------------------------------------------------------------------------\u001b[39m",
      "\u001b[31mNameError\u001b[39m                                 Traceback (most recent call last)",
      "\u001b[36mCell\u001b[39m\u001b[36m \u001b[39m\u001b[32mIn[1]\u001b[39m\u001b[32m, line 2\u001b[39m\n\u001b[32m      1\u001b[39m \u001b[38;5;28mprint\u001b[39m(\u001b[33m\"\u001b[39m\u001b[33mStarting your Ghost Kitchen Automat ordering process...\u001b[39m\u001b[38;5;130;01m\\n\u001b[39;00m\u001b[33m\"\u001b[39m)\n\u001b[32m----> \u001b[39m\u001b[32m2\u001b[39m final_total = \u001b[43mprocess_order\u001b[49m()\n\u001b[32m      3\u001b[39m display_order_summary(final_total)\n\u001b[32m      4\u001b[39m \u001b[38;5;28mprint\u001b[39m(\u001b[33m\"\u001b[39m\u001b[38;5;130;01m\\n\u001b[39;00m\u001b[33mAll set! You can re-run this cell to place another order if needed.\u001b[39m\u001b[33m\"\u001b[39m)\n",
      "\u001b[31mNameError\u001b[39m: name 'process_order' is not defined"
     ]
    }
   ],
   "source": [
    "print(\"Starting your Ghost Kitchen Automat ordering process...\\n\")\n",
    "final_total = process_order()\n",
    "display_order_summary(final_total)\n",
    "print(\"\\nAll set! You can re-run this cell to place another order if needed.\")\n"
   ]
  },
  {
   "cell_type": "markdown",
   "id": "485894b5-caac-4897-96bf-361497b34d19",
   "metadata": {},
   "source": [
    "## References\n"
   ]
  },
  {
   "cell_type": "markdown",
   "id": "cfe9c640-7443-41bb-9c57-730d3f1ecede",
   "metadata": {},
   "source": [
    "Week 3 Lab Instructions  \n",
    "  Provided assignment expectations, naming conventions, GitHub workflow, and task outline.  \n",
    "  (Source: Week 3 Labs.txt)\n",
    "Instructor Walkthrough Transcript\n",
    "  Demonstrated input handling, conditional logic, structured output, and formatting conventions.  \n",
    "   (by Olivia Newton) Audio transcribed through second microphone.\n",
    "Python Code Layout Guide\n",
    "  Used for code formatting, naming conventions, indentation, and PEP 8 style compliance.  \n",
    " JupyterLab Components Guide  \n",
    "  Informed usage of Markdown, cell types, and notebook organization.  \n",
    "  (Source: my own notes-Key JupyterLab Components.txt)\n",
    "BGEN 632 Assignment Workflow Guide  \n",
    "  Specified notebook naming conventions, GitHub submission, and lab formatting standards.  \n",
    "  This is a general account of my notes, and course material/ resources. The handling of AI summarizations for course material will be better documented going forward, as I am still learning and was little unclear on the correct way addressing this. I will provide better documentation.\n"
   ]
  },
  {
   "cell_type": "code",
   "execution_count": null,
   "id": "5f311689-8786-4751-bfdd-df865e0978ce",
   "metadata": {},
   "outputs": [],
   "source": []
  },
  {
   "cell_type": "code",
   "execution_count": null,
   "id": "fb8f3f86-c66f-4943-afc4-ccb76d0df74b",
   "metadata": {},
   "outputs": [],
   "source": []
  }
 ],
 "metadata": {
  "kernelspec": {
   "display_name": "Python 3 (ipykernel)",
   "language": "python",
   "name": "python3"
  },
  "language_info": {
   "codemirror_mode": {
    "name": "ipython",
    "version": 3
   },
   "file_extension": ".py",
   "mimetype": "text/x-python",
   "name": "python",
   "nbconvert_exporter": "python",
   "pygments_lexer": "ipython3",
   "version": "3.13.2"
  }
 },
 "nbformat": 4,
 "nbformat_minor": 5
}
