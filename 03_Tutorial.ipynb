{
 "cells": [
  {
   "attachments": {},
   "cell_type": "markdown",
   "id": "164a0ef9-73ce-4207-80ad-27fdd9c5f967",
   "metadata": {
    "editable": true,
    "slideshow": {
     "slide_type": ""
    },
    "tags": []
   },
   "source": [
    "UM MSBA - BGEN 632\n",
    "\n",
    "# Week 3: Operations, Conditional Statements, and Iteration\n",
    "\n",
    "In this module you will learn about operators, math, conditions, and iteration. \n",
    "\n",
    "* Operators are a prerequisite to conditions and iteration. \n",
    "\n",
    "* Conditions (e.g., if-else) are based on comparing operands (e.g., value, variables) using a comparison operator (e.g., `==`, `!=`). \n",
    "\n",
    "* Iteration requires knowledge of both operators and conditions. \n",
    "\n",
    "We will first discuss operators, then conditions, and finally iteration.\n",
    "\n",
    "Please carefully review and interact with the contents of this tutorial.\n",
    "\n",
    "---\n",
    "\n",
    "## Operators\n",
    "\n",
    "Now that we have a foundation in creating and assigning variables, let's dive in to how to perform operations on those variables. \n",
    "\n",
    "<div><center>\n",
    "<img src = \"https://miro.medium.com/v2/1*sJw2INiUrBL8fxygUjsizA.png\" width = \"500\"></center>\n",
    "</div>\n",
    "\n",
    "\n",
    "All high-level programming languages have various categories of operators. Python relies on these operators to perform specific operations on variables and values. This tutorial will cover the following categories of operators:\n",
    "* Arithmetic\n",
    "* Assignment\n",
    "* Comparison\n",
    "* Logical\n",
    "\n",
    "### Arithmetic Operators\n",
    "\n",
    "Arithmetic operators are used to perform mathematical operations on variables. They include common operations that we are familiar with from our K–12 school days (e.g., addition, subtraction). The table below provides a list of the most common arithmetic operators.\n",
    "\n",
    "| Operator | Name | Description | Example |\n",
    "|:---:|:---|:---|:---|\n",
    "| `+` | Addition | Computes the sum of its operands | `x + y` |\n",
    "| `-` | Subtraction | Subtracts right operand from left operand | `x - y` |\n",
    "| `*` | Multiplication | Computes the product of its operands | `x * y` |\n",
    "| `/` | Division | Divides left operand by right operand | `x / y` |\n",
    "| `%` | Modulus | Divides left operand by right operand, returns the remainder | `x % y` |\n",
    "| `//` | Floor Division | Divides left operand by right operand, returns quotient with digits after decimal point removed | `x // y` |\n",
    "| `**` | Exponentiation | Takes a number *x* and raises it to the power of *y* | `x ** y` |\n",
    "\n",
    "An *operand* is used in conjunction with an *operator*. What is an operand? A value that the operand performs its function. It is the object of attention. So, in the following operation, the values *x* and *z* are the operands and `+` is the operator:\n",
    "\n",
    "````Python\n",
    "x + z\n",
    "````\n",
    "\n",
    "*Run the code cells below and inspect the differences in their output.*"
   ]
  },
  {
   "cell_type": "code",
   "execution_count": null,
   "id": "868aadfe-4dbc-4c7a-af5d-b97aa2a50fe5",
   "metadata": {},
   "outputs": [],
   "source": [
    "a = 33\n",
    "b = 9"
   ]
  },
  {
   "cell_type": "code",
   "execution_count": null,
   "id": "22825b21-ee25-4e6b-9ec1-c2b7a7e2b3ee",
   "metadata": {},
   "outputs": [],
   "source": [
    "a + b"
   ]
  },
  {
   "cell_type": "code",
   "execution_count": null,
   "id": "cfa9706c-66f9-449a-852d-1560cfa63a54",
   "metadata": {},
   "outputs": [],
   "source": [
    "a - b"
   ]
  },
  {
   "cell_type": "code",
   "execution_count": null,
   "id": "96eb4a70-a026-44c7-a663-832ad310ca62",
   "metadata": {},
   "outputs": [],
   "source": [
    "a * b"
   ]
  },
  {
   "cell_type": "code",
   "execution_count": null,
   "id": "68493d79-1d19-4fa9-8ce9-98c820d6237c",
   "metadata": {},
   "outputs": [],
   "source": [
    "a / b"
   ]
  },
  {
   "cell_type": "code",
   "execution_count": null,
   "id": "01106473-e254-4e85-9712-464d7c4fcb69",
   "metadata": {},
   "outputs": [],
   "source": [
    "a % b"
   ]
  },
  {
   "cell_type": "code",
   "execution_count": null,
   "id": "dfce7a55-88de-4780-b8cb-ed47f2567da2",
   "metadata": {},
   "outputs": [],
   "source": [
    "a // b"
   ]
  },
  {
   "cell_type": "code",
   "execution_count": null,
   "id": "4a0c1d81-a815-49e5-b44b-a8d19cad5c8e",
   "metadata": {},
   "outputs": [],
   "source": [
    "a ** b"
   ]
  },
  {
   "cell_type": "markdown",
   "id": "665dc212-b627-4bd0-853c-14165a261cef",
   "metadata": {},
   "source": [
    "#### Data Type\n",
    "\n",
    "Data type plays a role in the values returned for math operations. In many programming languages, when dividing numbers, the result contains a decimal only if the original data type contains a decimal. For example, in strongly typed languages like C++ and C#, if you start with integer values, then the result leaves out the decimal place. Python does not behave this way. Since data type is inferred, Python will avoid rounding and return a value with the decimal."
   ]
  },
  {
   "cell_type": "code",
   "execution_count": null,
   "id": "08223287-1a87-4559-b829-8617c0dc8829",
   "metadata": {},
   "outputs": [],
   "source": [
    "a / b"
   ]
  },
  {
   "cell_type": "markdown",
   "id": "41dee521-f58b-474d-b850-76612fc53e33",
   "metadata": {},
   "source": [
    "Even if you attempt to explicitly type your values as integers, Python will still return a `float` instead of an `int`. \n",
    "\n",
    "*Run the code cell below.*"
   ]
  },
  {
   "cell_type": "code",
   "execution_count": null,
   "id": "5b83d5f2-0a14-4e57-9f0b-48ad0605ca91",
   "metadata": {},
   "outputs": [],
   "source": [
    "int(33) / int(9)"
   ]
  },
  {
   "cell_type": "markdown",
   "id": "0181eaf3-eb17-4c57-b119-7af72747b432",
   "metadata": {},
   "source": [
    "What if you want the output to be an integer and not a float? What if you do not want that decimal place? You will need to use type conversion and force the final result to be `int` as demonstrated in the code example below. *Run the code cell to see the output*."
   ]
  },
  {
   "cell_type": "code",
   "execution_count": null,
   "id": "81b961e1-83e4-423d-a291-cab05c4cc5a9",
   "metadata": {},
   "outputs": [],
   "source": [
    "int(33 / 9)"
   ]
  },
  {
   "cell_type": "markdown",
   "id": "a3fb8ec1-326e-404b-a2f0-5fe998bfb31f",
   "metadata": {},
   "source": [
    "#### Updating Variables\n",
    "\n",
    "If you are familiar with other programming languages, you may have noticed that the table above doesn't contain an incrementer and decrementer. This is because Python doesn't have special syntax for incrementing or decrementing by 1. To increment a variable by 1, you can use the syntax presented in the code cell below. "
   ]
  },
  {
   "cell_type": "code",
   "execution_count": null,
   "id": "59cb40ca-d5fd-45de-a8d0-f152428003bc",
   "metadata": {},
   "outputs": [],
   "source": [
    "a = a + 1"
   ]
  },
  {
   "cell_type": "markdown",
   "id": "7a5a9f50-bc5e-4d27-8792-e5dd1ce3bca3",
   "metadata": {},
   "source": [
    "#### Operator Precedence\n",
    "\n",
    "Python follows the PEMDAS order of operations. The abbreviation is short for **P**arentheses **E**xponentiation **M**ultiplication **D**ivision **A**ddition **S**ubtraction. This acronym can help you remember which mathematical operators precede the others.\n",
    "\n",
    "*Run the code example below to see what happens when we run an expression involving mixed operators*. "
   ]
  },
  {
   "cell_type": "code",
   "execution_count": null,
   "id": "92dbd73d-7a40-41cb-a471-0ef056f17f2f",
   "metadata": {},
   "outputs": [],
   "source": [
    "1 + 2 * 3"
   ]
  },
  {
   "cell_type": "markdown",
   "id": "44b8d862-250d-4d9a-940d-7d201f9defd6",
   "metadata": {},
   "source": [
    "The Python interpreter doesn’t read, or process, operators from left to right. Instead, the Python interpreter ranks operators by importance and processes them in a specific sequence. This is called the order of operations or, operator precedence. In the example above, multiplication has a higher precedence than addition, so `2 * 3` is processed first, then added to `1`. Using parentheses we can force operators of lower precedence to run first. \n",
    "\n",
    "*Run the code cell below using parentheses to tell Python how to process the mixed operators*. "
   ]
  },
  {
   "cell_type": "code",
   "execution_count": null,
   "id": "bc31140c-ea7c-4cc7-8e15-eb8d126afb38",
   "metadata": {},
   "outputs": [],
   "source": [
    "(1 + 2) * 3"
   ]
  },
  {
   "cell_type": "markdown",
   "id": "677372fb-bedb-40f1-acd0-703021e3ce8c",
   "metadata": {},
   "source": [
    "Parentheses determine the order of operations. Any operation contained within parentheses is executed first. You can use parentheses to nest operations within operations:\n",
    "\n",
    "````Python\n",
    "((((1 + 2) * 3) - 4) / 5) - 6\n",
    "````"
   ]
  },
  {
   "cell_type": "markdown",
   "id": "6778170a-1a19-4c38-b5db-d86b7743304b",
   "metadata": {},
   "source": [
    "#### Whitespace\n",
    "\n",
    "Note that we have included spaces around the operators in our code cells. \n",
    "\n",
    "For example, we used:\n",
    "\n",
    "```Python\n",
    "a / b\n",
    "```\n",
    "\n",
    "Instead of:\n",
    "\n",
    "```Python\n",
    "a/b\n",
    "\n",
    "```\n",
    "\n",
    "Using spaces in this way creates code that is more *readable*. The math would work without spaces, but it's a good idea to get into the habit of writing [Pythonic](https://builtin.com/data-science/pythonic) code and being consistent with formatting (e.g., by following recommendations in [PEP 8 Style Guide](https://peps.python.org/pep-0008/#other-recommendations))."
   ]
  },
  {
   "cell_type": "markdown",
   "id": "ec5d34ed-b2f4-456a-8f07-918678beb1d2",
   "metadata": {},
   "source": [
    "### Assignment Operators\n",
    "\n",
    "Assignment operators assign a value of its right-hand operand to a variable on the left-hand side. We used a common assignment operator `=` in Week 2 to create our variables. \n",
    "\n",
    "In the code example below, we use the operator `=` to set `my_age` to the value `34`. "
   ]
  },
  {
   "cell_type": "code",
   "execution_count": null,
   "id": "6a229456-6524-46e1-89c9-d1bdca9ebcb8",
   "metadata": {},
   "outputs": [],
   "source": [
    "my_age = 34"
   ]
  },
  {
   "cell_type": "markdown",
   "id": "9304b3f5-0856-4b51-97ff-65f06f4b8ccc",
   "metadata": {},
   "source": [
    "The operator `=` is *right-associative*. This means the most right-hand values will be assigned first, with the left-hand variables receiving an assigned value last. Thus, `a = b = c` really is `a = (b = c)`.\n",
    "\n",
    "Other types of assignment operators exist. The below table provides the various assignment operators available in Python (many of which exist in other programming languages):\n",
    "\n",
    "| Operator | Example | Equivalent |\n",
    "|:---|:---|:---|\n",
    "| `=` | `x = 3` | *x* = 3 |\n",
    "| `+=` | `x += 3` | *x* = *x* + 3 |\n",
    "| `-=` | `x -= 3` | *x* = *x* - 3 |\n",
    "| `\\*=` | `x *= 3` | *x* = *x* \\* 3 |\n",
    "| `\\**=` | `x **= 3` | *x* = *x* \\*\\* 3 |\n",
    "| `/=` | `x /= 3` | *x* = *x* / 3 |\n",
    "| `%=` | `x %= 3` | *x* = *x* % 3 |\n",
    "| `//=` | `x //= 3` | *x* = *x* // 3 |\n",
    "| `&=` | `x &= 3` | *x* = *x* & 3 |\n",
    "| `\\|=` | `x \\|= 3` | *x* = *x* \\| 3 |\n",
    "| `^=` | `x ^= 3` | *x* = *x* ^ 3 |\n",
    "| `>>=` | `x >>= 3` | *x* = *x* >> 3 |\n",
    "| `<<=` | `x <<= 3` | *x* = *x* << 3 |\n",
    "\n",
    "The first 8 rows contain operators that are the most common. Experiment with these operators on your own to build your familiarity with them.\n",
    "\n",
    "### Comparison Operators\n",
    "\n",
    "Comparison, or relational, operators are used to evaluate two values against each other. Implementing these operators will return a `boolean` value, typically `True` or `False`. We will learn more about the mysterious ways of `boolean` later.\n",
    "\n",
    "The following table presents comparison operators, many of which you may be familiar with from your days of Algebra. We also used comparison operators in the Week 2 tutorial. \n",
    "\n",
    "| Operator | Name | Example |\n",
    "|:---|:---|:---|\n",
    "| `==` | Equal to | `x == y` |\n",
    "| `!=` | Not equal to | `x != y` |\n",
    "| `>`| Greater than | `x > y` |\n",
    "| `<`| Less than | `x < y` |\n",
    "| `>=` | Greater than or equal to | `x >= y` |\n",
    "| `<=` | Less than or equal to | `x <= y` |\n",
    "\n",
    "\n",
    "Note: `==` is used as comparison operator of equality rather than `=` which is used as an assignment operator!\n",
    "\n",
    "The following code demonstrates the output derived from each comparison. *Run the code cells below*."
   ]
  },
  {
   "cell_type": "code",
   "execution_count": null,
   "id": "f5318473-dfb6-46be-8613-f2bb9131d50f",
   "metadata": {},
   "outputs": [],
   "source": [
    "x = 3\n",
    "y = 6"
   ]
  },
  {
   "cell_type": "code",
   "execution_count": null,
   "id": "e9d132ea-17b6-4616-8edc-4e89091bcd87",
   "metadata": {},
   "outputs": [],
   "source": [
    "x == y"
   ]
  },
  {
   "cell_type": "code",
   "execution_count": null,
   "id": "592936d3-0fb2-4c73-b668-d085133fa3bc",
   "metadata": {},
   "outputs": [],
   "source": [
    "x != y"
   ]
  },
  {
   "cell_type": "code",
   "execution_count": null,
   "id": "0356b6bc-d872-4e6f-ad35-fd62149a2384",
   "metadata": {},
   "outputs": [],
   "source": [
    "x > y"
   ]
  },
  {
   "cell_type": "code",
   "execution_count": null,
   "id": "8c9af9b6-d183-4023-afc3-92963b5fba08",
   "metadata": {},
   "outputs": [],
   "source": [
    "x < y"
   ]
  },
  {
   "cell_type": "code",
   "execution_count": null,
   "id": "5b56d6cf-6f78-45dd-a89e-e710944c67af",
   "metadata": {},
   "outputs": [],
   "source": [
    "x >= y"
   ]
  },
  {
   "cell_type": "code",
   "execution_count": null,
   "id": "fbd22be0-4d04-4672-ae38-56a3b6f95904",
   "metadata": {},
   "outputs": [],
   "source": [
    "x <= y"
   ]
  },
  {
   "cell_type": "markdown",
   "id": "67dabded-8933-4041-879c-db4e6423caee",
   "metadata": {},
   "source": [
    "Note, for the operators above (with the exception of `!=`), if the operand is not a number, the result is `False`.\n",
    "\n",
    "### Logical Operators\n",
    "\n",
    "Logical operators are used to compare the logic between values or variables. Thus, while the comparison operators assess the relation between values, the logical operators assess the logic.\n",
    "\n",
    "| Operator | Name | Description | Example |\n",
    "|:---:|:---|:---|:---|\n",
    "| `and` | Logical `AND` | Returns `True` if both statements are true | `x > 2 and y < 2` |\n",
    "| `or` | Logical `OR` | Returns `True` if one of the statements is true | `x < 7 or y > 7` |\n",
    "| `not` | Logical `NOT` | Reverse the result; returns `False` if the result is true | `not(x > 2 and y < 2)`<br/>`not(x < 7 or y > 7)` |\n",
    "\n",
    "The following logical operations present examples of how the operators are used. *Run the code cells below*."
   ]
  },
  {
   "cell_type": "code",
   "execution_count": null,
   "id": "f421acff-b4be-48cc-9e38-68e0d9c50e3d",
   "metadata": {},
   "outputs": [],
   "source": [
    "u = 5\n",
    "m = 6"
   ]
  },
  {
   "cell_type": "code",
   "execution_count": null,
   "id": "2f156327-82dd-48ee-92a9-f750f9eef976",
   "metadata": {},
   "outputs": [],
   "source": [
    "u > 2 and m < 2"
   ]
  },
  {
   "cell_type": "code",
   "execution_count": null,
   "id": "1c36ae07-5c20-4333-a27e-08d6b320db59",
   "metadata": {},
   "outputs": [],
   "source": [
    "not(u > 2 and m < 2) "
   ]
  },
  {
   "cell_type": "code",
   "execution_count": null,
   "id": "fef8e195-25d7-4742-a4f2-367fe8231b5a",
   "metadata": {},
   "outputs": [],
   "source": [
    "u < 7 or m > 7"
   ]
  },
  {
   "cell_type": "markdown",
   "id": "2207f664-44b8-45b1-974e-c42ba7885b74",
   "metadata": {},
   "source": [
    "The first and second comparisons contain the exact same logical comparison with the exception of the second comparison having `not`. While the expression `(u > 2) and (m < 2)` evaluates as `False`, the logical `not` informs Python to provide the opposite, which is `True`. In other words, `not` reverses the boolean that follows it as demonstrated in the code cells below.  *Run these code cells*."
   ]
  },
  {
   "cell_type": "code",
   "execution_count": 2,
   "id": "0bef0783-6226-4689-99f9-f84d717a6d19",
   "metadata": {},
   "outputs": [
    {
     "data": {
      "text/plain": [
       "False"
      ]
     },
     "execution_count": 2,
     "metadata": {},
     "output_type": "execute_result"
    }
   ],
   "source": [
    "not True"
   ]
  },
  {
   "cell_type": "code",
   "execution_count": null,
   "id": "545b9b65-f49a-45af-b39d-913dbc620696",
   "metadata": {},
   "outputs": [],
   "source": [
    "not False"
   ]
  },
  {
   "cell_type": "code",
   "execution_count": null,
   "id": "05b6d774-2c80-4234-99b0-15e2aee48ce0",
   "metadata": {},
   "outputs": [],
   "source": [
    "not 5 == 5"
   ]
  },
  {
   "cell_type": "code",
   "execution_count": null,
   "id": "f8c83504-e9ad-4d37-8769-d25656987894",
   "metadata": {},
   "outputs": [],
   "source": [
    "not 4 > 5"
   ]
  },
  {
   "cell_type": "markdown",
   "id": "2c3e001a-363c-4ea6-b5e5-7798ba62b949",
   "metadata": {},
   "source": [
    "---\n",
    "\n",
    "## Conditional Statements I\n",
    "\n",
    "Now let's discuss conditional statements. At a basic level, a conditional statement evaluates two possible conditions and executes code for *only one* of those conditions. There are several types of conditional statements in Python.\n",
    "\n",
    "| Type | Description |\n",
    "|:---:|:---|\n",
    "| if | Used to check if a certain condition is true, and if so, execute a specific block of code |\n",
    "| if else | Used to execute one block of code if a condition is true, and another block of code if the condition is false |\n",
    "| if elif | Used to check multiple conditions, and execute a specific block of code based on which condition is true |\n",
    "| nested if else | Used when we need to check a condition inside another condition |\n",
    "\n",
    "A conditional statement contains several basic features:\n",
    "1. The start of the sequence.\n",
    "2. The boolean condition(s) tested (the expression).\n",
    "3. The statements following the condition.\n",
    "4. The end of the sequence.\n",
    "\n",
    "Why use conditional statements?\n",
    "\n",
    "* *Adaptability*: They make your code adaptable to different situations.\n",
    "* *Control Flow*: They help control the flow of your program based on conditions.\n",
    "\n",
    "Before jumping into conditional statements any further, let's discuss a data type we did not previously cover: boolean.\n",
    "\n",
    "### Booleans\n",
    "\n",
    "Often in a program you will encounter the need to program in decision-making abilities. For example, if your mobile app allows food orders your program will need to decide how much to charge the customer based on the item ordered. Since a program runs sequentially (all the code is read in a programming file starting at the top and running contiguously to the bottom), you do not want the program to process each food item and charge a customer for every single item on the menu.\n",
    "\n",
    "All programs rely on decision making logic. When you register for classes, the program must perform several checks in order for you to register:\n",
    "* Do you have the appropriate class standing?\n",
    "* Do you meet all the prerequisites for a course?\n",
    "* Do you have any academic violations?\n",
    "* Do you have any behavioral vioaltions?\n",
    "* Do you have any financial blocks on your account?\n",
    "* Is the class at seating capacity?\n",
    "\n",
    "If the program decides you pass all the checks, then you proceed to register for your classes. All of these require decision-making logic. At the heart of this decision-making logic is the concept of boolean values.\n",
    "\n",
    "#### Boolean Values\n",
    "\n",
    "One of the most fundamental concepts of programming is the boolean. Boolean values are very basic compared to many other types of data. Booleans can possess one of two possible values. What are those values? In Python, those include the following:\n",
    "\n",
    "* True/False\n",
    "\n",
    "While booleans may seem basic compared to other types, they are used in very complex situations, such as decision making in if-statements. \n",
    "\n",
    "Like a light switch, booleans have two possible states. The most common states include `True` and `False`; sometimes, other programming languages use `Yes` and `No`; less commonly is `On` and `Off` (unless you design a program to interface with hardware, like the LED lights on keyboards). Another common set of states include `0` and `1`.\n",
    "\n",
    "This two-valued logic, while seeminlgy limiting, is not uncommon in our everyday life. For example, in law, the status of a defendent at the end of a trial is guilty or innocent (no in-betweens). Laws are either broken or not. When purchasing a product, you either purchased it or you did not. [Logic gates](https://en.wikipedia.org/wiki/Logic_gate) in hardware are another example of a boolean state.\n",
    "\n",
    "In Python, the boolean type can only be assigned `True` or `False` like so:"
   ]
  },
  {
   "cell_type": "code",
   "execution_count": null,
   "id": "b2bd9019-81d9-4716-9dd9-0f8414599e7a",
   "metadata": {},
   "outputs": [],
   "source": [
    "active = True\n",
    "inactive = False"
   ]
  },
  {
   "cell_type": "markdown",
   "id": "8bf8835b-a7ad-4c8b-987b-d025d6fa910f",
   "metadata": {},
   "source": [
    "Let's take a moment and have you focus on an important aspect of this `type`. Last week, we discussed that any variable that has text is a `string` type. The boolean values above contain characters. Yet, the boolean values of `True` and `False` do not have quotation marks surrounding them like strings normally do. This is an important distinction between boolean and strings. A boolean will not have quotation marks surrounding their value; a string will.\n",
    "\n",
    "We can perform a simple test to reveal this:"
   ]
  },
  {
   "cell_type": "code",
   "execution_count": null,
   "id": "a7e58a06-d966-434b-8f2a-58b3e5e29189",
   "metadata": {},
   "outputs": [],
   "source": [
    "active = True\n",
    "inactive = False\n",
    "active_string = \"True\"\n",
    "\n",
    "active == active_string"
   ]
  },
  {
   "cell_type": "markdown",
   "id": "fe3e9eab-6d9e-44d3-813e-a99ba7e0be42",
   "metadata": {},
   "source": [
    "This code outputs `False` as the two variables are not equivalent.\n",
    "\n",
    "#### Boolean expressions\n",
    "\n",
    "In the prior section, we covered four different categories of operators:\n",
    "\n",
    "* Arithmetic\n",
    "* Assignment\n",
    "* Comparison\n",
    "* Logical\n",
    "\n",
    "We'll zoom in on comparison and logical operators for a bit. Both of these types of comparisons return a value after they are evaluated: `True` or `False`.\n",
    "\n",
    "Using an example from the previous section, we can compare the values of two variables using a comparison operator:"
   ]
  },
  {
   "cell_type": "code",
   "execution_count": null,
   "id": "9d9d20de-018f-47e8-99da-54a7856390a9",
   "metadata": {},
   "outputs": [],
   "source": [
    "x = 3\n",
    "y = 6"
   ]
  },
  {
   "cell_type": "code",
   "execution_count": null,
   "id": "cf0ddd9b-0171-4cb8-93fd-21da981f7101",
   "metadata": {},
   "outputs": [],
   "source": [
    "x == y"
   ]
  },
  {
   "cell_type": "code",
   "execution_count": null,
   "id": "6167c4e6-7058-45c1-abcd-c077dfc6e162",
   "metadata": {},
   "outputs": [],
   "source": [
    "x != y"
   ]
  },
  {
   "cell_type": "code",
   "execution_count": null,
   "id": "909cdc26-d850-48da-8b8b-08ca9e0bf2a9",
   "metadata": {},
   "outputs": [],
   "source": [
    "x > y"
   ]
  },
  {
   "cell_type": "code",
   "execution_count": null,
   "id": "70aca981-3a4f-41d9-9747-d3a650261059",
   "metadata": {},
   "outputs": [],
   "source": [
    "x < y"
   ]
  },
  {
   "cell_type": "code",
   "execution_count": null,
   "id": "8fb1d918-73b7-478d-a986-195d26930af0",
   "metadata": {},
   "outputs": [],
   "source": [
    "x >= y"
   ]
  },
  {
   "cell_type": "code",
   "execution_count": null,
   "id": "1ee39255-2b70-421b-8757-88b6f8a8e8e5",
   "metadata": {},
   "outputs": [],
   "source": [
    "x <= y"
   ]
  },
  {
   "cell_type": "markdown",
   "id": "fe5440b5-3f4b-4a67-9382-8b7e13b49cf4",
   "metadata": {},
   "source": [
    "Each of these expressions, when evaluated, outputs a boolean value to the console. The output will be either `True` or `False`. That is, an evaluation was performed on the expression and a state was assigned.\n",
    "\n",
    "How do we really know the returned values are booleans? What if those are strings masquerading as booleans? A simple way to find out would be to use the `type()`function as demonstrated in the code cell below. "
   ]
  },
  {
   "cell_type": "code",
   "execution_count": null,
   "id": "f69746ff-6aad-4048-8388-4846501da7d1",
   "metadata": {},
   "outputs": [],
   "source": [
    "type(x == y)"
   ]
  },
  {
   "cell_type": "markdown",
   "id": "fd842576-3e4e-444c-abe1-53ee7141390a",
   "metadata": {},
   "source": [
    "## Conditional Statements II\n",
    "\n",
    "Now that you understand the boolean data type we can focus on the conditional statement. Recall, a conditional statement has the following four components:\n",
    "\n",
    "1. The start of the sequence.\n",
    "1. The boolean condition(s) tested (the expression).\n",
    "1. The statements following the condition.\n",
    "1. The end of the sequence.\n",
    "\n",
    "Let's walk through an example of these four components. The diagram below presents a conditional statement illustrating the evaluation of a ski resort.\n",
    "\n",
    "<div><center>\n",
    "<img src = \"https://lucid.app/publicSegments/view/40e421a2-82e2-4e11-bae7-a5286464cab7/image.png\" width = \"300\"></center>\n",
    "</div>\n",
    "\n",
    "The start of the sequence is the arrow at the top. Usually, a conditional statement in code comes after other lines of code. The second part is the conditional expression, or boolean expression, which assesses the condition we are testing. In this case, we are testing whether or not the ski resort is open. Remember, all conditional expressions must return a boolean value. Thus, this is not evaluating *when* the ski resort will open, but if the ski resort is open. Is it true or false?\n",
    "\n",
    "Each branch of the boolean expression is the result of the evaluation being `True` or `False`. If the ski resort is open (i.e., true), then I can go skiing. If the ski resort is not open (i.e., false), then I just continue on with life, reaching the end of the sequence.\n",
    "\n",
    "With conditional statements, the code will not run *both* branches of the condition. That is, the ski resort can not be open and closed simultaneously.\n",
    "\n",
    "### If and Else\n",
    "\n",
    "Most programming languages rely on two types of conditional expressions: if-else and switch-case. Python only has if-else. If you are familiar with switch-case, you know it is just a special form of if-else. Before we jump into code, let's use pseudocode to reinforce the concepts you have learned.\n",
    "\n",
    "Here is the generic form of our logic:\n",
    "\n",
    "```\n",
    "If boolean_condition Then:\n",
    "   consequent\n",
    "Else:\n",
    "   alternative\n",
    "End If\n",
    "```\n",
    "\n",
    "And here is the ski resort version:\n",
    "\n",
    "```\n",
    "If ski resort is open Then:\n",
    "   go skiing\n",
    "Else:\n",
    "   do not go skiing\n",
    "End If\n",
    "```\n",
    "\n",
    "We first evaluate the boolean expression `ski resort is open`. This expression returns a boolean value. In this situation, if the ski resort is open, then the boolean condition returns `True`. As a consequence, we `go skiing`. If the ski resort is not open, the boolean expression returns `False` and we `do not go skiing`.\n",
    "\n",
    "Whenever you attempt to write a conditional statement, it is recommended that you always start with pseudocode. This forces you to think of the logic first, then the code. \n",
    "\n",
    "The method of creating an if-statement in Python follows a simple pattern:\n",
    "\n",
    "```Python\n",
    "if condition:\n",
    "    # some consequent, if condition is true\n",
    "else:\n",
    "    # alternative, if condition is false\n",
    "```\n",
    "\n",
    "Let's convert the above code into something a little more Pythonic using our ski resort example. We will first create a variable that has a value representing the status of the ski resort. The value of `1` means the ski resort is open whereas the value of `0` means that the ski resort is closed. For this example, we will set it to `1`."
   ]
  },
  {
   "cell_type": "code",
   "execution_count": null,
   "id": "24aa3b5f-7713-499e-91d4-87ce9bc22c3e",
   "metadata": {},
   "outputs": [],
   "source": [
    "# Ski resort is represented by two possible values:\n",
    "# 1 represents the ski resort is open\n",
    "# 0 represents the ski resort is not open\n",
    "ski_resort = 1\n",
    "\n",
    "if ski_resort == 1:\n",
    "    # go skiing\n",
    "    print(\"We are going skiing.\")\n",
    "else:\n",
    "    # do not go skiing\n",
    "    print(\"We are not going skiing\")"
   ]
  },
  {
   "cell_type": "markdown",
   "id": "4e3acfa5-b42c-4301-b614-e71468c172cb",
   "metadata": {},
   "source": [
    "We can change the logic in my boolean expression and still have a program that operates. For example, instead of using `ski_resort == 1`, we could rely on `ski_resort > 0` like so:"
   ]
  },
  {
   "cell_type": "code",
   "execution_count": null,
   "id": "904ea459-8cad-4dd7-9f8f-a56b5c665863",
   "metadata": {},
   "outputs": [],
   "source": [
    "# Ski resort is represented by two possible values:\n",
    "# 1 represents the ski resort is open\n",
    "# 0 represents the ski resort is not open\n",
    "ski_resort = 1\n",
    "\n",
    "if ski_resort > 0:\n",
    "    # go skiing\n",
    "    print(\"We are going skiing.\")\n",
    "else:\n",
    "    # do not go skiing\n",
    "    print(\"We are not going skiing\")"
   ]
  },
  {
   "cell_type": "markdown",
   "id": "0574c056-b6d4-447e-9b53-72c62e99e6f6",
   "metadata": {},
   "source": [
    "This results in the same output. Remember, we have several comparison operators. We do not need to rely on just one. The logic of the problem will dictate the operator that should be implemented in the code.\n",
    "\n",
    "### Else-if statement\n",
    "\n",
    "Sometimes we may need to test several boolean expressions instead of just one. This is where the idea of `else-if` comes in. The diagram below provides an example of such a situation. \n",
    "\n",
    "Recall the temperature conversion program you created. In that program you had to convert between Celsius, Kelvin, and Fahrenheit. Unfortunately, you could not provide the user the option to select which temperature scale to start with. The program assumed the user would input celsius, then convert to both Fahrenheit and Kelvin. With conditional statements, we have the power to create customizable situations.\n",
    "\n",
    "<div><center>\n",
    "<img src = \"https://lucid.app/publicSegments/view/7e588554-1609-4765-a12f-461592f634fc/image.png\" width = \"500\"></center>\n",
    "</div>\n",
    "\n",
    "In the diagram, the user is given the choice to start out with their temperature scale of choice. If Kelvin is selected, then the first conditional expression is true and the program converts to Celsius and Fahrenheit. If not, then the next conditional expression is evaluated: did the user select Celsius or Fahrenheit? If Celsius, then the program converts to Kelvin and Fahrenheit. If none of those, then the default is the user selected Fahrenheit and the program converts to Kelvin and Celsius.\n",
    "\n",
    "We can work out the logic before we even start to code and create pseudocode. First, we need to identify the various features of our conditional statement. Recall, a conditional statement contains the following:\n",
    "1. The start of the sequence.\n",
    "1. The boolean condition(s) tested (the expression).\n",
    "1. The statements following the condition.\n",
    "1. The end of the sequence.\n",
    "\n",
    "For our temperature conversion program, we would have the following:\n",
    "1. Start the program by asking the following:\n",
    "   1. The user chooses their temperature scale.\n",
    "   1. The user inputs a temperature.\n",
    "1. The boolean conditions will assess:\n",
    "   1. If Kelvin was selected\n",
    "   1. If not, if Celsius was selected\n",
    "   1. If not, then default to Fahrenheit\n",
    "1. Process the conversion of the temperature scales based on their selection\n",
    "1. Output the converted values\n",
    "\n",
    "Second, using the framwork above, we can create a framework for my logic using pseudocode:\n",
    "\n",
    "```\n",
    "# Ask user to select a temperature scale\n",
    "input()\n",
    "\n",
    "# Ask user to enter a temperature\n",
    "input()\n",
    "\n",
    "If Kelvin selected Then:\n",
    "   convert to celsius, fahrenheit\n",
    "Else If celsius selected Then:\n",
    "   convert to Kelvin, fahrenheit\n",
    "Else:\n",
    "   convert to Kelvin, celsius\n",
    "End If\n",
    "```\n",
    "\n",
    "Let's return to the ski resort program. Let's add in various levels of ski resort status. Look at the comments at the start of the program below. Instead of just two levels of ski resort status, we now have four."
   ]
  },
  {
   "cell_type": "code",
   "execution_count": null,
   "id": "550c4d3b-d553-43d7-b86a-3d5a7fd087d4",
   "metadata": {},
   "outputs": [],
   "source": [
    "# Ski resort is represented by four possible values:\n",
    "# 3 represents ski resort is open\n",
    "# 2 represents ski resort opens soon\n",
    "# 1 represents ski resort closes soon\n",
    "# 0 represents ski resort is closed\n",
    "ski_resort = 2\n",
    "\n",
    "if ski_resort > 2:\n",
    "    # go skiing\n",
    "    print(\"Let's go skiing!\")\n",
    "elif ski_resort == 2:\n",
    "    print(\"Let's get ready to go skiing!\")\n",
    "elif ski_resort == 1:\n",
    "    print(\"Let's do one more run!\")\n",
    "else:\n",
    "    # do not go skiing\n",
    "    print(\"We can't go skiing.\")"
   ]
  },
  {
   "cell_type": "markdown",
   "id": "c80dec39-daad-491a-aac0-6cb1236f86ce",
   "metadata": {},
   "source": [
    "We set the status of the ski resort to `2`. When the if-else statement executes, the result is `Let's get ready to go skiing!`. The program will evaluate `if` first, then if necessary, move onto `elif` (as many as exist), then the `else` if none of the conditional expressions above it resolve. The `else` at the very end of the if-else statement acts as the default decision.\n",
    "\n",
    "Notice that we used a combination of operators in the program. We relied on `>` and `==`. The equal to `==` is the most explicit and does not allow much variation. The `>` and `<` allow more freedom, but you give up control.\n",
    "\n",
    "---\n",
    "\n",
    "## Iteration in Python\n",
    "\n",
    "Often in a program you will find yourself writing code that repeats itself. Typing this repeatedly can become tedious. Perhaps you have found yourself in the pattern of copying code, pasting it, editing it, then repeating this process all over. When you find yourself writing code that repeats, you should consider using an iteration statement.\n",
    "\n",
    "Python provides two types of iteration statements. They include the following:\n",
    "\n",
    "* `while`\n",
    "* `for`\n",
    "\n",
    "At this stage of the course we will not cover `for` loops. That requires knowledge of collections, which we will cover after spring break. Keep in mind that the `while` loop is the default iteration statement you should rely on. When you need to iterate through a collection (e.g., `list`, `dict`) you will use `for`. More on that later.\n",
    "\n",
    "### `while` statement\n",
    "\n",
    "The `while` loop is a statement that provides iteration in Python. A loop contains multiple components that are required in order to run. As mentioned, a loop evaluates a boolean expression. In fact, an iteration statement contains three distinct components:\n",
    "\n",
    "* `initializer`: executed only one time before beginning the loop; e.g., `i = 0`.\n",
    "* `condition`: determines if the next iteration of the loop should be executed; must always be a boolean expression; e.g., `i < 2001`.\n",
    "* `iterator`: determines what happens after the successful completion of each loop; e.g., `i += 1` or `i = i + 1`.\n",
    "\n",
    "The `while` statement executes one or more statements so long as a boolean expression is `True`. Once the boolean expression evaluates to `False`, the loop stops executing.\n",
    "\n",
    "Let's start with a simple program. We want to create a basic counting program. It counts 10 times starting at 0 and ending at 9. If we were to write this program without a loop, we would write it like so:"
   ]
  },
  {
   "cell_type": "code",
   "execution_count": null,
   "id": "3a532e45-55a0-42a3-a09b-b5df42cfc274",
   "metadata": {},
   "outputs": [],
   "source": [
    "print(\"Count 0.\")\n",
    "print(\"Count 1.\")\n",
    "print(\"Count 2.\")\n",
    "print(\"Count 3.\")\n",
    "print(\"Count 4.\")\n",
    "print(\"Count 5.\")\n",
    "print(\"Count 6.\")\n",
    "print(\"Count 7.\")\n",
    "print(\"Count 8.\")\n",
    "print(\"Count 9.\")"
   ]
  },
  {
   "cell_type": "markdown",
   "id": "c6e4d662-463e-4fdf-845f-c5590f46153e",
   "metadata": {},
   "source": [
    "Simple enough. But, what if we needed the program to iterate from 1 to 200? It would become tedious to type out that many lines of code. This is where an iteration statement comes in handy. Here is what a `while` statement might look like:\n",
    "\n",
    "````Python\n",
    "i = 1\n",
    "while i < 201:\n",
    "    print(f\"Count {i}.\")\n",
    "    i += 1\n",
    "````\n",
    "\n",
    "*Run the code cell below*. You will see it executes until `i` reaches 200. "
   ]
  },
  {
   "cell_type": "code",
   "execution_count": null,
   "id": "bed7c9d0-04c1-43ba-b015-89297674ddae",
   "metadata": {},
   "outputs": [],
   "source": [
    "i = 1\n",
    "while i < 201:\n",
    "    print(f\"Count {i}.\")\n",
    "    i += 1"
   ]
  },
  {
   "cell_type": "markdown",
   "id": "9a4365ad-68ff-4332-b511-71f3c41b5f04",
   "metadata": {},
   "source": [
    "Each of the three components of the loop are found in the code above:\n",
    "\n",
    "* `initializer`: We initialized the variable `i` equal to `1`. If we need to write a counting program that starts at 1000 and ends after 2000, then the initializer would be `i = 1000`.\n",
    "* `condition`: The boolean expression is `i < 201`. Each time the code executes, it determines if the variable `i` is less than `201`. The evaluation returns `True` or `False`. We could have written the condition as `i <= 200` and had the same output.\n",
    "* `iterator`: At the end of the `while` loop we have the iterator `i += 1`. We increment the value of `i` by `1` each time the loop ends.\n",
    "\n",
    "### Infinite Loops\n",
    "\n",
    "You may find you will need to rely on an infinite loop in Python. Perhaps you want a program to continually check the status of a temperature sensor or an artificial intelligence program to update itself on a regular basis.\n",
    "\n",
    "The syntax for an infinite loop is fairly straight forward:\n",
    "\n",
    "```Python\n",
    "while True:\n",
    "    # code here\n",
    "```\n",
    "\n",
    "Since the boolean expression will always resolve as `True`, the loop will continue executing. To see this in action, copy and paste this text into the code below and run the cell. \n",
    "\n",
    "````Python\n",
    "n = 0\n",
    "while True:\n",
    "    print(f\"{n}\")\n",
    "    n += 1\n",
    "````\n",
    "\n",
    "To stop the code running, simply select the code cell and then select Interrupt Kernel (square icon ⏹ in the notebook toolbar or 'Interrupt Kernel' option in Kernel Menu) to end the process. Python, like other programming languages, provides mechanisms for stop an infinite loop. You will learn about those in the next section on jump statements."
   ]
  },
  {
   "cell_type": "code",
   "execution_count": null,
   "id": "8def0db2-a7ed-4529-80c9-12758b2887a8",
   "metadata": {},
   "outputs": [],
   "source": [
    "# paste the infinite loop code here if you dare"
   ]
  },
  {
   "cell_type": "markdown",
   "id": "9a679bf3-b4bd-4973-9640-f9c775ddad3c",
   "metadata": {},
   "source": [
    "### Nested Loops\n",
    "\n",
    "We sometimes come across a situation in which we need to nest loops. The idea behind nesting loops is placing one loop within another. Below is an example using pseudocode:\n",
    "\n",
    "```\n",
    "while condition:\n",
    "    # block of code for the outer loop\n",
    "\n",
    "    for condition two:\n",
    "        # block of code for the inner loop\n",
    "```\n",
    "\n",
    "When you nest a loop within another loop, the inner loop is run fully for every iteration of the outer loop. Thus, if your outer loop is designed to loop 4 times and the inner loop is designed to loop 3 times, then the total number of iterations for the inner loop will be 12, or `3 * 4`."
   ]
  },
  {
   "cell_type": "code",
   "execution_count": null,
   "id": "00c751b3-2c1c-4282-814a-91b635976651",
   "metadata": {},
   "outputs": [],
   "source": [
    "k = 0\n",
    "while k < 4:\n",
    "    print(f\"===Outer loop: {k}===\")\n",
    "    l = 0\n",
    "    while l < 3:\n",
    "        print(f\"Inner loop: {l}\")\n",
    "        l += 1\n",
    "    k += 1"
   ]
  },
  {
   "cell_type": "markdown",
   "id": "abeeb8c8-3ddf-4b78-8714-4d173676b02d",
   "metadata": {},
   "source": [
    "You may be tempted to create nested loops when the opportunity presents itself. Loops are some of the most resource intensive processes in programming. When you nest a loop, that process is compounded. If you cannot avoid it, then nest them. \n",
    "\n",
    "### Jump Statements: Break and Continue\n",
    "\n",
    "Jump statements allow us to stop processing the currently executing code and leap to another section of code. These include the keywords `break`, `continue`, `pass`, and `return`. While `pass` is technically classified as a jump statement, it does not behave like the other three. We will only focus on `break`, `continue`, and a little on `pass` at this moment. We will cover `return` when we discuss methods and functions.\n",
    "\n",
    "#### Break\n",
    "\n",
    "In the simplest sense, the `break` keyword serves as a mechanism to stop and break out of code. A simple way to view it is a `break` serves to stop further processing of code after a desired state is achieved.\n",
    "\n",
    "This perspective is too narrow for what `break` actually does. In actuality, *the `break` statement terminates the closest enclosing iteration or statement*. Thus, `break` can be used to stop processing any block of code such as a loop or if-statement. \n",
    "\n",
    "For example, say we imported an Excel data file of customers and we create a loop to iterate over each row in the Excel file. This file contains 3,472 records. We are searching for a row that contains information on a specific customer. If the record is number 1,836 we would not want the loop to continue looping over the other 1,636 records. That would be a waste of time and compute resources. This is where the `break` statement comes to your aid. \n",
    "\n",
    "Using an `if` statement, we can utilize the `break` to stop processing a loop, like so:\n",
    "\n",
    "```Python\n",
    "while condition:\n",
    "    # block of code\n",
    "    if customer is 1836:\n",
    "        # block of code\n",
    "        break\n",
    "```\n",
    "\n",
    "As a more grounded example of what we can do, let's return to the counting program."
   ]
  },
  {
   "cell_type": "code",
   "execution_count": null,
   "id": "c7787a21-834b-4a82-bc9c-0f55b5b225eb",
   "metadata": {},
   "outputs": [],
   "source": [
    "i = 0\n",
    "j = 20\n",
    "while i < j:\n",
    "    print(f\"i is {i}, j is {j}\")\n",
    "    i += 1\n",
    "    j -= 1"
   ]
  },
  {
   "cell_type": "markdown",
   "id": "0aeb7b07-aee5-470c-80ca-b68e7919ce7d",
   "metadata": {},
   "source": [
    "We can tweak the program so that it terminates early if `i` equals `4` and `j` equals `16`:"
   ]
  },
  {
   "cell_type": "code",
   "execution_count": null,
   "id": "8b6f910a-37e6-4ac8-ab80-9a03c26ffe52",
   "metadata": {},
   "outputs": [],
   "source": [
    "i = 0\n",
    "j = 20\n",
    "while i < j:\n",
    "    print(f\"i is {i}, j is {j}\")\n",
    "    if i == 4 and j == 16:\n",
    "        break\n",
    "    i += 1\n",
    "    j -= 1\n",
    "print(\"All done!\")"
   ]
  },
  {
   "cell_type": "markdown",
   "id": "fe87751a-30b1-4382-bfe2-1d2538a65989",
   "metadata": {},
   "source": [
    "An important principle for you to understand and memorize is the definition that was provided just a moment ago. Here it is again:\n",
    "\n",
    "> The `break` keyword terminates the closest enclosing iteration or statement.\n",
    "\n",
    "This means if you have nested loops, for example, that only the inner loop with the `break` will cease. Recall, the nested loop example from the previous section. We am going to repeat that example here, except tweak the condition of the inner loop from `l < 3` to `l < 4` (doing this to better illustrate the use of `break`):"
   ]
  },
  {
   "cell_type": "code",
   "execution_count": null,
   "id": "683be4cf-ac51-4bde-8d66-0c6db2b736e8",
   "metadata": {},
   "outputs": [],
   "source": [
    "k = 0\n",
    "while k < 4:\n",
    "    print(f\"===Outer loop: {k}===\")\n",
    "    l = 0\n",
    "    while l < 4:\n",
    "        print(f\"Inner loop: {l}\")\n",
    "        l += 1\n",
    "    k += 1"
   ]
  },
  {
   "cell_type": "markdown",
   "id": "54cf00b2-6e8f-4f50-a105-a8f9e34718e4",
   "metadata": {},
   "source": [
    "Now we will add an `if` statement with a `break` inside the inner loop. If the value of `l` is larger than the value of `k`, then we will cease processing the inner loop."
   ]
  },
  {
   "cell_type": "code",
   "execution_count": null,
   "id": "caafc835-88f7-4104-8566-8ebdaca53662",
   "metadata": {},
   "outputs": [],
   "source": [
    "k = 0\n",
    "while k < 4:\n",
    "    print(f\"===Outer loop: {k}===\")\n",
    "    l = 0\n",
    "    while l < 4:\n",
    "        if l > k:\n",
    "            break\n",
    "        print(f\"Inner loop: {l}\")\n",
    "        l += 1\n",
    "    k += 1"
   ]
  },
  {
   "cell_type": "markdown",
   "id": "ae3cea69-105b-4209-95e1-feec0d5eb6c1",
   "metadata": {},
   "source": [
    "As the outer loops iterations increase, the `break` inside the inner loop evaluates less often. Take a moment and compare the output of the previous two examples. If necessary, use a piece of paper and pen and write out the outcome of each iteration to support your understanding of what is happening.\n",
    "\n",
    "Importantly, the outer loop continues to iterate even when the `break` is processed. This is because the `break` only applies to the closest iteration or enclosed statement. In the example above, the closest enclosed statement is the inner loop.\n",
    "\n",
    "#### Continue\n",
    "\n",
    "While the `break` statement ends the closest enclosing iteration or statement, the `continue` statement starts a new iteration of the closest enclosing iteration statement. So, for example, if we have a `while` loop, the `break` stops it processing. The `continue` keyword only stops the current iteration, not the entire process. Confused? Let us go over some examples.\n",
    "\n",
    "Consider the following code: \n",
    "\n",
    "````Python\n",
    "i = 0\n",
    "while i < 5:\n",
    "    print(f\"Iteration {i}: \")\n",
    "    if i < 3:\n",
    "        print(\"Skip the end.\")\n",
    "        continue\n",
    "    print(\"Reached the end.\")\n",
    "    i += 1\n",
    "````\n",
    "    \n",
    "You can try to execute this code (*remember you can interrupt the kernel to stop the code*). If you do, you will see that the code runs an infinite process. Whenever i is less than 3, the if-statement executes. Since the if-statement contains the keyword continue, the current iteration of the loop stops, returns to the beginning, and starts a new iteration.\n",
    "\n",
    "The problem with the loop is that the iterator never increments because the processing ceases prior to reaching `i += 1`! Let's replace the continue with a break. *Run the code cell below*."
   ]
  },
  {
   "cell_type": "code",
   "execution_count": null,
   "id": "4d5516a9-e706-42fa-bce9-ae9c25efe3cd",
   "metadata": {},
   "outputs": [],
   "source": [
    "i = 0\n",
    "while i < 5:\n",
    "    print(f\"Iteration {i}: \")\n",
    "    if i < 3:\n",
    "        print(\"Skip the end.\")\n",
    "        break\n",
    "    print(\"Reached the end.\")\n",
    "    i += 1"
   ]
  },
  {
   "cell_type": "markdown",
   "id": "fdbb099a-ff67-4760-afc2-ac2cee8f93e5",
   "metadata": {},
   "source": [
    "What was the result? The program should have ended prematurely. The `break` terminated the entire process, not just a single iteration.\n",
    "\n",
    "How might we correct the code above so that even when the if-statement is executed the iterator is incremented? Take some time and think about it.\n",
    "\n",
    "#### Pass\n",
    "\n",
    "The last jump statement we will discuss here is `pass`. We will not spend much time on this keyword because it does not actually *jump* or *skip* code. Think of it as a placeholder. Instead of using a comment as a placeholder in code, we can simply use `pass`.\n",
    "\n",
    "Earlier in this section we reviewed an example using pseudocode. In the example, we want to import an Excel file containing 3,472 customers. We want to stop executing my code when we reach customer 1,836.\n",
    "\n",
    "```Python\n",
    "while condition:\n",
    "    # block of code\n",
    "    if customer is 1836:\n",
    "        # block of code\n",
    "        break\n",
    "```\n",
    "\n",
    "Using `pass`, we could write out a more Pythonic version of the pseudocode:\n",
    "\n",
    "```Python\n",
    "customer = 0\n",
    "while customer < 3472:\n",
    "    pass\n",
    "    if customer == 1836:\n",
    "        pass\n",
    "        break\n",
    "```"
   ]
  },
  {
   "cell_type": "markdown",
   "id": "076d7f68-8d6c-4d5c-876e-b2b24b293aa7",
   "metadata": {},
   "source": [
    "You may prefer using comments as placeholders as it can allow you to be more specific. For example:\n",
    "\n",
    "```python\n",
    "customer = 0\n",
    "while customer < 3472:\n",
    "    # Save each column of data as a variable\n",
    "    # Include first name, last name, birthdate, address\n",
    "    if customer == 1836:\n",
    "        # If the customer 1836 is identified, pull their data\n",
    "        # Save the data as variables and export it to a separate\n",
    "        # file and generate a report for admin\n",
    "        break\n",
    "```\n",
    "\n",
    "As you can see, a comment containing explicit logic that the future-self will translate into code is more useful than simply typing in `pass`. While we may know what we are planning for this block of code presently, if we return to this in 2 weeks we may not recall. The detailed comments can refresh your memory.\n",
    "\n",
    "&#x1F389; Congrats: you have completed this tutorial! &#x1F389;"
   ]
  }
 ],
 "metadata": {
  "kernelspec": {
   "display_name": "Python 3 (ipykernel)",
   "language": "python",
   "name": "python3"
  },
  "language_info": {
   "codemirror_mode": {
    "name": "ipython",
    "version": 3
   },
   "file_extension": ".py",
   "mimetype": "text/x-python",
   "name": "python",
   "nbconvert_exporter": "python",
   "pygments_lexer": "ipython3",
   "version": "3.13.2"
  }
 },
 "nbformat": 4,
 "nbformat_minor": 5
}
